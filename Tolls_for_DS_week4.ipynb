{
 "cells": [
  {
   "cell_type": "markdown",
   "id": "55444db4",
   "metadata": {},
   "source": [
    "# My Jupyter Notebook on IBM Watson Studio"
   ]
  },
  {
   "cell_type": "markdown",
   "id": "f2a93a39",
   "metadata": {},
   "source": [
    "***Name: João Vitor***\\\n",
    "Current occupation: Majoring in computer engineering\\\n",
    "Desired occupation: Data Scientist"
   ]
  },
  {
   "cell_type": "markdown",
   "id": "fa3cd639",
   "metadata": {},
   "source": [
    "*I got in touch with machine learning in a course promoted by my college and the Brazilian stock exchange. I found the whole process extremely interesting, from extracting data to deploying the model.*\n",
    "\\\n",
    "*Computer engineering course. Although it is not a course focused on this area of Data Science, it has several subjects that complement my studies separately. I intend to get a postgraduate degree in Big Data or Data Science itself.*"
   ]
  },
  {
   "cell_type": "markdown",
   "id": "2a191be3",
   "metadata": {},
   "source": [
    "### I created a function that returns the even numbers in a list. Then I instantiated a list of numbers between 0 and 50 and applied the function. "
   ]
  },
  {
   "cell_type": "code",
   "execution_count": 2,
   "id": "8b30c601",
   "metadata": {},
   "outputs": [
    {
     "name": "stdout",
     "output_type": "stream",
     "text": [
      "[0, 2, 4, 6, 8, 10, 12, 14, 16, 18, 20, 22, 24, 26, 28, 30, 32, 34, 36, 38, 40, 42, 44, 46, 48]\n"
     ]
    }
   ],
   "source": [
    "def pair_numbers(arr):\n",
    "    pair = []\n",
    "    for i in arr:\n",
    "        if i % 2 == 0:\n",
    "            pair.append(i)\n",
    "    return pair\n",
    "\n",
    "# List of number betwen 0 and 50\n",
    "numbers = list(range(0,50))\n",
    "print(pair_numbers(numbers))"
   ]
  },
  {
   "cell_type": "markdown",
   "id": "e646b617",
   "metadata": {},
   "source": [
    "<hr>\n",
    "<code>fruits = [\"apple\", \"banana\", \"cherry\", \"kiwi\", \"mango\"]\n",
    "newlist = [x for x in fruits if \"a\" in x]\n",
    "print(newlist)\n",
    "</code>\n",
    "<hr>\n",
    "\n",
    "<h1>Best lenguage for Deep learning</h1>\n",
    "<ol>\n",
    "    <li>Python</li>\n",
    "    <li>Matlab</li>\n",
    "    <li>R</li>\n",
    "</ol>"
   ]
  }
 ],
 "metadata": {
  "kernelspec": {
   "display_name": "Python 3 (ipykernel)",
   "language": "python",
   "name": "python3"
  },
  "language_info": {
   "codemirror_mode": {
    "name": "ipython",
    "version": 3
   },
   "file_extension": ".py",
   "mimetype": "text/x-python",
   "name": "python",
   "nbconvert_exporter": "python",
   "pygments_lexer": "ipython3",
   "version": "3.9.12"
  }
 },
 "nbformat": 4,
 "nbformat_minor": 5
}
